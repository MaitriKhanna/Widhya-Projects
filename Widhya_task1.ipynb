{
  "nbformat": 4,
  "nbformat_minor": 0,
  "metadata": {
    "colab": {
      "name": "Widhya task1.ipynb",
      "provenance": [],
      "authorship_tag": "ABX9TyPtKEuvOiEB45f+A+1+DkX/",
      "include_colab_link": true
    },
    "kernelspec": {
      "name": "python3",
      "display_name": "Python 3"
    }
  },
  "cells": [
    {
      "cell_type": "markdown",
      "metadata": {
        "id": "view-in-github",
        "colab_type": "text"
      },
      "source": [
        "<a href=\"https://colab.research.google.com/github/MaitriKhanna/Widhya-Projects/blob/main/Widhya_task1.ipynb\" target=\"_parent\"><img src=\"https://colab.research.google.com/assets/colab-badge.svg\" alt=\"Open In Colab\"/></a>"
      ]
    },
    {
      "cell_type": "code",
      "metadata": {
        "id": "KrtLK4oFY0qN"
      },
      "source": [
        "import pandas as pd"
      ],
      "execution_count": null,
      "outputs": []
    },
    {
      "cell_type": "code",
      "metadata": {
        "id": "FtOsHynEZ0Ta"
      },
      "source": [
        "micro1= pd.read_csv('https://raw.githubusercontent.com/WidhyaOrg/datasets/master/covid19.csv')"
      ],
      "execution_count": null,
      "outputs": []
    },
    {
      "cell_type": "code",
      "metadata": {
        "colab": {
          "base_uri": "https://localhost:8080/",
          "height": 195
        },
        "id": "bfzr0VnYd6Cw",
        "outputId": "ba110796-def3-4493-c818-8228560ae903"
      },
      "source": [
        "micro1.head()"
      ],
      "execution_count": null,
      "outputs": [
        {
          "output_type": "execute_result",
          "data": {
            "text/html": [
              "<div>\n",
              "<style scoped>\n",
              "    .dataframe tbody tr th:only-of-type {\n",
              "        vertical-align: middle;\n",
              "    }\n",
              "\n",
              "    .dataframe tbody tr th {\n",
              "        vertical-align: top;\n",
              "    }\n",
              "\n",
              "    .dataframe thead th {\n",
              "        text-align: right;\n",
              "    }\n",
              "</style>\n",
              "<table border=\"1\" class=\"dataframe\">\n",
              "  <thead>\n",
              "    <tr style=\"text-align: right;\">\n",
              "      <th></th>\n",
              "      <th>Sno</th>\n",
              "      <th>Date</th>\n",
              "      <th>State/UnionTerritory</th>\n",
              "      <th>ConfirmedIndianNational</th>\n",
              "      <th>ConfirmedForeignNational</th>\n",
              "      <th>Cured</th>\n",
              "      <th>Deaths</th>\n",
              "    </tr>\n",
              "  </thead>\n",
              "  <tbody>\n",
              "    <tr>\n",
              "      <th>0</th>\n",
              "      <td>1</td>\n",
              "      <td>30/01/20</td>\n",
              "      <td>Kerala</td>\n",
              "      <td>1</td>\n",
              "      <td>0</td>\n",
              "      <td>0</td>\n",
              "      <td>0</td>\n",
              "    </tr>\n",
              "    <tr>\n",
              "      <th>1</th>\n",
              "      <td>2</td>\n",
              "      <td>31/01/20</td>\n",
              "      <td>Kerala</td>\n",
              "      <td>1</td>\n",
              "      <td>0</td>\n",
              "      <td>0</td>\n",
              "      <td>0</td>\n",
              "    </tr>\n",
              "    <tr>\n",
              "      <th>2</th>\n",
              "      <td>3</td>\n",
              "      <td>01/02/20</td>\n",
              "      <td>Kerala</td>\n",
              "      <td>2</td>\n",
              "      <td>0</td>\n",
              "      <td>0</td>\n",
              "      <td>0</td>\n",
              "    </tr>\n",
              "    <tr>\n",
              "      <th>3</th>\n",
              "      <td>4</td>\n",
              "      <td>02/02/20</td>\n",
              "      <td>Kerala</td>\n",
              "      <td>3</td>\n",
              "      <td>0</td>\n",
              "      <td>0</td>\n",
              "      <td>0</td>\n",
              "    </tr>\n",
              "    <tr>\n",
              "      <th>4</th>\n",
              "      <td>5</td>\n",
              "      <td>03/02/20</td>\n",
              "      <td>Kerala</td>\n",
              "      <td>3</td>\n",
              "      <td>0</td>\n",
              "      <td>0</td>\n",
              "      <td>0</td>\n",
              "    </tr>\n",
              "  </tbody>\n",
              "</table>\n",
              "</div>"
            ],
            "text/plain": [
              "   Sno      Date State/UnionTerritory  ...  ConfirmedForeignNational  Cured  Deaths\n",
              "0    1  30/01/20               Kerala  ...                         0      0       0\n",
              "1    2  31/01/20               Kerala  ...                         0      0       0\n",
              "2    3  01/02/20               Kerala  ...                         0      0       0\n",
              "3    4  02/02/20               Kerala  ...                         0      0       0\n",
              "4    5  03/02/20               Kerala  ...                         0      0       0\n",
              "\n",
              "[5 rows x 7 columns]"
            ]
          },
          "metadata": {
            "tags": []
          },
          "execution_count": 3
        }
      ]
    },
    {
      "cell_type": "code",
      "metadata": {
        "id": "VpcpUD_JjrpQ"
      },
      "source": [
        ""
      ],
      "execution_count": null,
      "outputs": []
    },
    {
      "cell_type": "code",
      "metadata": {
        "id": "Rk0OV6PthlRB"
      },
      "source": [
        "m1= micro1.drop(['State/UnionTerritory'],axis=1)"
      ],
      "execution_count": null,
      "outputs": []
    },
    {
      "cell_type": "code",
      "metadata": {
        "id": "AZTlrsVyd8hU"
      },
      "source": [
        "m1=m1.groupby(['Date'],sort=False).sum()"
      ],
      "execution_count": null,
      "outputs": []
    },
    {
      "cell_type": "code",
      "metadata": {
        "colab": {
          "base_uri": "https://localhost:8080/",
          "height": 225
        },
        "id": "Sf9NuQ7GgR6u",
        "outputId": "d11c21db-1a04-4664-ed4c-f7e748096794"
      },
      "source": [
        "m1.head()"
      ],
      "execution_count": null,
      "outputs": [
        {
          "output_type": "execute_result",
          "data": {
            "text/html": [
              "<div>\n",
              "<style scoped>\n",
              "    .dataframe tbody tr th:only-of-type {\n",
              "        vertical-align: middle;\n",
              "    }\n",
              "\n",
              "    .dataframe tbody tr th {\n",
              "        vertical-align: top;\n",
              "    }\n",
              "\n",
              "    .dataframe thead th {\n",
              "        text-align: right;\n",
              "    }\n",
              "</style>\n",
              "<table border=\"1\" class=\"dataframe\">\n",
              "  <thead>\n",
              "    <tr style=\"text-align: right;\">\n",
              "      <th></th>\n",
              "      <th>Sno</th>\n",
              "      <th>ConfirmedIndianNational</th>\n",
              "      <th>ConfirmedForeignNational</th>\n",
              "      <th>Cured</th>\n",
              "      <th>Deaths</th>\n",
              "    </tr>\n",
              "    <tr>\n",
              "      <th>Date</th>\n",
              "      <th></th>\n",
              "      <th></th>\n",
              "      <th></th>\n",
              "      <th></th>\n",
              "      <th></th>\n",
              "    </tr>\n",
              "  </thead>\n",
              "  <tbody>\n",
              "    <tr>\n",
              "      <th>30/01/20</th>\n",
              "      <td>1</td>\n",
              "      <td>1</td>\n",
              "      <td>0</td>\n",
              "      <td>0</td>\n",
              "      <td>0</td>\n",
              "    </tr>\n",
              "    <tr>\n",
              "      <th>31/01/20</th>\n",
              "      <td>2</td>\n",
              "      <td>1</td>\n",
              "      <td>0</td>\n",
              "      <td>0</td>\n",
              "      <td>0</td>\n",
              "    </tr>\n",
              "    <tr>\n",
              "      <th>01/02/20</th>\n",
              "      <td>3</td>\n",
              "      <td>2</td>\n",
              "      <td>0</td>\n",
              "      <td>0</td>\n",
              "      <td>0</td>\n",
              "    </tr>\n",
              "    <tr>\n",
              "      <th>02/02/20</th>\n",
              "      <td>4</td>\n",
              "      <td>3</td>\n",
              "      <td>0</td>\n",
              "      <td>0</td>\n",
              "      <td>0</td>\n",
              "    </tr>\n",
              "    <tr>\n",
              "      <th>03/02/20</th>\n",
              "      <td>5</td>\n",
              "      <td>3</td>\n",
              "      <td>0</td>\n",
              "      <td>0</td>\n",
              "      <td>0</td>\n",
              "    </tr>\n",
              "  </tbody>\n",
              "</table>\n",
              "</div>"
            ],
            "text/plain": [
              "          Sno  ConfirmedIndianNational  ConfirmedForeignNational  Cured  Deaths\n",
              "Date                                                                           \n",
              "30/01/20    1                        1                         0      0       0\n",
              "31/01/20    2                        1                         0      0       0\n",
              "01/02/20    3                        2                         0      0       0\n",
              "02/02/20    4                        3                         0      0       0\n",
              "03/02/20    5                        3                         0      0       0"
            ]
          },
          "metadata": {
            "tags": []
          },
          "execution_count": 6
        }
      ]
    },
    {
      "cell_type": "code",
      "metadata": {
        "id": "pBCLRti4gTkB"
      },
      "source": [
        "m1=m1.drop('Sno',axis=1)"
      ],
      "execution_count": null,
      "outputs": []
    },
    {
      "cell_type": "code",
      "metadata": {
        "colab": {
          "base_uri": "https://localhost:8080/",
          "height": 225
        },
        "id": "9tCdCrt5mFxE",
        "outputId": "d1184c71-db15-47db-bfd1-817a77a300a8"
      },
      "source": [
        "m1.head()"
      ],
      "execution_count": null,
      "outputs": [
        {
          "output_type": "execute_result",
          "data": {
            "text/html": [
              "<div>\n",
              "<style scoped>\n",
              "    .dataframe tbody tr th:only-of-type {\n",
              "        vertical-align: middle;\n",
              "    }\n",
              "\n",
              "    .dataframe tbody tr th {\n",
              "        vertical-align: top;\n",
              "    }\n",
              "\n",
              "    .dataframe thead th {\n",
              "        text-align: right;\n",
              "    }\n",
              "</style>\n",
              "<table border=\"1\" class=\"dataframe\">\n",
              "  <thead>\n",
              "    <tr style=\"text-align: right;\">\n",
              "      <th></th>\n",
              "      <th>ConfirmedIndianNational</th>\n",
              "      <th>ConfirmedForeignNational</th>\n",
              "      <th>Cured</th>\n",
              "      <th>Deaths</th>\n",
              "    </tr>\n",
              "    <tr>\n",
              "      <th>Date</th>\n",
              "      <th></th>\n",
              "      <th></th>\n",
              "      <th></th>\n",
              "      <th></th>\n",
              "    </tr>\n",
              "  </thead>\n",
              "  <tbody>\n",
              "    <tr>\n",
              "      <th>30/01/20</th>\n",
              "      <td>1</td>\n",
              "      <td>0</td>\n",
              "      <td>0</td>\n",
              "      <td>0</td>\n",
              "    </tr>\n",
              "    <tr>\n",
              "      <th>31/01/20</th>\n",
              "      <td>1</td>\n",
              "      <td>0</td>\n",
              "      <td>0</td>\n",
              "      <td>0</td>\n",
              "    </tr>\n",
              "    <tr>\n",
              "      <th>01/02/20</th>\n",
              "      <td>2</td>\n",
              "      <td>0</td>\n",
              "      <td>0</td>\n",
              "      <td>0</td>\n",
              "    </tr>\n",
              "    <tr>\n",
              "      <th>02/02/20</th>\n",
              "      <td>3</td>\n",
              "      <td>0</td>\n",
              "      <td>0</td>\n",
              "      <td>0</td>\n",
              "    </tr>\n",
              "    <tr>\n",
              "      <th>03/02/20</th>\n",
              "      <td>3</td>\n",
              "      <td>0</td>\n",
              "      <td>0</td>\n",
              "      <td>0</td>\n",
              "    </tr>\n",
              "  </tbody>\n",
              "</table>\n",
              "</div>"
            ],
            "text/plain": [
              "          ConfirmedIndianNational  ConfirmedForeignNational  Cured  Deaths\n",
              "Date                                                                      \n",
              "30/01/20                        1                         0      0       0\n",
              "31/01/20                        1                         0      0       0\n",
              "01/02/20                        2                         0      0       0\n",
              "02/02/20                        3                         0      0       0\n",
              "03/02/20                        3                         0      0       0"
            ]
          },
          "metadata": {
            "tags": []
          },
          "execution_count": 8
        }
      ]
    },
    {
      "cell_type": "code",
      "metadata": {
        "colab": {
          "base_uri": "https://localhost:8080/"
        },
        "id": "mPJNkLGfmHV0",
        "outputId": "c5f5a060-a190-4a04-9e06-d7263a8893a6"
      },
      "source": [
        "m1.sum(axis=1)"
      ],
      "execution_count": null,
      "outputs": [
        {
          "output_type": "execute_result",
          "data": {
            "text/plain": [
              "Date\n",
              "30/01/20      1\n",
              "31/01/20      1\n",
              "01/02/20      2\n",
              "02/02/20      3\n",
              "03/02/20      3\n",
              "04/02/20      3\n",
              "05/02/20      3\n",
              "06/02/20      3\n",
              "07/02/20      3\n",
              "08/02/20      3\n",
              "09/02/20      3\n",
              "10/02/20      3\n",
              "11/02/20      3\n",
              "12/02/20      3\n",
              "13/02/20      3\n",
              "14/02/20      3\n",
              "15/02/20      3\n",
              "16/02/20      3\n",
              "17/02/20      3\n",
              "18/02/20      3\n",
              "19/02/20      3\n",
              "20/02/20      3\n",
              "21/02/20      3\n",
              "22/02/20      3\n",
              "23/02/20      3\n",
              "24/02/20      3\n",
              "25/02/20      3\n",
              "26/02/20      3\n",
              "27/02/20      3\n",
              "28/02/20      3\n",
              "29/02/20      3\n",
              "01/03/20      3\n",
              "02/03/20      5\n",
              "03/03/20      9\n",
              "04/03/20     31\n",
              "05/03/20     33\n",
              "06/03/20     34\n",
              "07/03/20     37\n",
              "08/03/20     42\n",
              "09/03/20     49\n",
              "10/03/20     61\n",
              "11/03/20     63\n",
              "12/03/20     77\n",
              "13/03/20     85\n",
              "14/03/20     96\n",
              "15/03/20    125\n",
              "16/03/20    129\n",
              "17/03/20    154\n",
              "18/03/20    168\n",
              "19/03/20    197\n",
              "20/03/20    250\n",
              "21/03/20    310\n",
              "dtype: int64"
            ]
          },
          "metadata": {
            "tags": []
          },
          "execution_count": 9
        }
      ]
    },
    {
      "cell_type": "code",
      "metadata": {
        "id": "1xIUrAJXm8c4"
      },
      "source": [
        "m1['Total_count']= m1.sum(axis=1)"
      ],
      "execution_count": null,
      "outputs": []
    },
    {
      "cell_type": "code",
      "metadata": {
        "colab": {
          "base_uri": "https://localhost:8080/"
        },
        "id": "UVF5BdYdq0Bj",
        "outputId": "ec1b3c7d-88d0-4ac7-fcc4-18da899f95ff"
      },
      "source": [
        "m1.index"
      ],
      "execution_count": null,
      "outputs": [
        {
          "output_type": "execute_result",
          "data": {
            "text/plain": [
              "Index(['30/01/20', '31/01/20', '01/02/20', '02/02/20', '03/02/20', '04/02/20',\n",
              "       '05/02/20', '06/02/20', '07/02/20', '08/02/20', '09/02/20', '10/02/20',\n",
              "       '11/02/20', '12/02/20', '13/02/20', '14/02/20', '15/02/20', '16/02/20',\n",
              "       '17/02/20', '18/02/20', '19/02/20', '20/02/20', '21/02/20', '22/02/20',\n",
              "       '23/02/20', '24/02/20', '25/02/20', '26/02/20', '27/02/20', '28/02/20',\n",
              "       '29/02/20', '01/03/20', '02/03/20', '03/03/20', '04/03/20', '05/03/20',\n",
              "       '06/03/20', '07/03/20', '08/03/20', '09/03/20', '10/03/20', '11/03/20',\n",
              "       '12/03/20', '13/03/20', '14/03/20', '15/03/20', '16/03/20', '17/03/20',\n",
              "       '18/03/20', '19/03/20', '20/03/20', '21/03/20'],\n",
              "      dtype='object', name='Date')"
            ]
          },
          "metadata": {
            "tags": []
          },
          "execution_count": 11
        }
      ]
    },
    {
      "cell_type": "code",
      "metadata": {
        "colab": {
          "base_uri": "https://localhost:8080/",
          "height": 225
        },
        "id": "t3NCO169ql_P",
        "outputId": "507e6876-528b-4a6f-c16f-90beb600e695"
      },
      "source": [
        "m1.head()"
      ],
      "execution_count": null,
      "outputs": [
        {
          "output_type": "execute_result",
          "data": {
            "text/html": [
              "<div>\n",
              "<style scoped>\n",
              "    .dataframe tbody tr th:only-of-type {\n",
              "        vertical-align: middle;\n",
              "    }\n",
              "\n",
              "    .dataframe tbody tr th {\n",
              "        vertical-align: top;\n",
              "    }\n",
              "\n",
              "    .dataframe thead th {\n",
              "        text-align: right;\n",
              "    }\n",
              "</style>\n",
              "<table border=\"1\" class=\"dataframe\">\n",
              "  <thead>\n",
              "    <tr style=\"text-align: right;\">\n",
              "      <th></th>\n",
              "      <th>ConfirmedIndianNational</th>\n",
              "      <th>ConfirmedForeignNational</th>\n",
              "      <th>Cured</th>\n",
              "      <th>Deaths</th>\n",
              "      <th>Total_count</th>\n",
              "    </tr>\n",
              "    <tr>\n",
              "      <th>Date</th>\n",
              "      <th></th>\n",
              "      <th></th>\n",
              "      <th></th>\n",
              "      <th></th>\n",
              "      <th></th>\n",
              "    </tr>\n",
              "  </thead>\n",
              "  <tbody>\n",
              "    <tr>\n",
              "      <th>30/01/20</th>\n",
              "      <td>1</td>\n",
              "      <td>0</td>\n",
              "      <td>0</td>\n",
              "      <td>0</td>\n",
              "      <td>1</td>\n",
              "    </tr>\n",
              "    <tr>\n",
              "      <th>31/01/20</th>\n",
              "      <td>1</td>\n",
              "      <td>0</td>\n",
              "      <td>0</td>\n",
              "      <td>0</td>\n",
              "      <td>1</td>\n",
              "    </tr>\n",
              "    <tr>\n",
              "      <th>01/02/20</th>\n",
              "      <td>2</td>\n",
              "      <td>0</td>\n",
              "      <td>0</td>\n",
              "      <td>0</td>\n",
              "      <td>2</td>\n",
              "    </tr>\n",
              "    <tr>\n",
              "      <th>02/02/20</th>\n",
              "      <td>3</td>\n",
              "      <td>0</td>\n",
              "      <td>0</td>\n",
              "      <td>0</td>\n",
              "      <td>3</td>\n",
              "    </tr>\n",
              "    <tr>\n",
              "      <th>03/02/20</th>\n",
              "      <td>3</td>\n",
              "      <td>0</td>\n",
              "      <td>0</td>\n",
              "      <td>0</td>\n",
              "      <td>3</td>\n",
              "    </tr>\n",
              "  </tbody>\n",
              "</table>\n",
              "</div>"
            ],
            "text/plain": [
              "          ConfirmedIndianNational  ...  Total_count\n",
              "Date                               ...             \n",
              "30/01/20                        1  ...            1\n",
              "31/01/20                        1  ...            1\n",
              "01/02/20                        2  ...            2\n",
              "02/02/20                        3  ...            3\n",
              "03/02/20                        3  ...            3\n",
              "\n",
              "[5 rows x 5 columns]"
            ]
          },
          "metadata": {
            "tags": []
          },
          "execution_count": 12
        }
      ]
    },
    {
      "cell_type": "code",
      "metadata": {
        "id": "tbD5oOOMnJMx"
      },
      "source": [
        "import matplotlib.pyplot as plt\r\n"
      ],
      "execution_count": null,
      "outputs": []
    },
    {
      "cell_type": "code",
      "metadata": {
        "id": "Rboo9q7HqhLg"
      },
      "source": [
        "x= m1.index\r\n",
        "y= m1.Total_count"
      ],
      "execution_count": null,
      "outputs": []
    },
    {
      "cell_type": "code",
      "metadata": {
        "colab": {
          "base_uri": "https://localhost:8080/",
          "height": 491
        },
        "id": "D5uyFdgpnXCy",
        "outputId": "af658711-2656-4106-b454-3c2fd67701c2"
      },
      "source": [
        "fig = plt.figure(figsize =(45, 15))\r\n",
        "plt.bar(x,y)\r\n",
        "plt.xlabel(\"Date\")\r\n",
        "plt.ylabel(\"Total Cases\")\r\n",
        "plt.show()"
      ],
      "execution_count": null,
      "outputs": [
        {
          "output_type": "display_data",
          "data": {
            "image/png": "[encoded data removed]",
            "text/plain": [
              "<Figure size 3240x1080 with 1 Axes>"
            ]
          },
          "metadata": {
            "tags": [],
            "needs_background": "light"
          }
        }
      ]
    },
    {
      "cell_type": "code",
      "metadata": {
        "id": "dGuIKxR1oFjw",
        "colab": {
          "base_uri": "https://localhost:8080/"
        },
        "outputId": "32cb8398-0f9e-4bbb-fc5a-7ef2f5e968da"
      },
      "source": [
        "row= '04/03/20'\r\n",
        "print(m1.loc[row,'Total_count'])"
      ],
      "execution_count": null,
      "outputs": [
        {
          "output_type": "stream",
          "text": [
            "31\n"
          ],
          "name": "stdout"
        }
      ]
    },
    {
      "cell_type": "code",
      "metadata": {
        "colab": {
          "base_uri": "https://localhost:8080/",
          "height": 491
        },
        "id": "cHnLsfThyDZW",
        "outputId": "e709f953-794f-45ff-9863-a098976c5f0b"
      },
      "source": [
        "plt.figure(figsize=(45,15))\r\n",
        "plt.scatter(x,y)\r\n",
        "plt.xlabel(\"Date\")\r\n",
        "plt.ylabel(\"Total cases\")\r\n",
        "plt.show()"
      ],
      "execution_count": null,
      "outputs": [
        {
          "output_type": "display_data",
          "data": {
            "image/png": "[encoded data removed]",
            "text/plain": [
              "<Figure size 3240x1080 with 1 Axes>"
            ]
          },
          "metadata": {
            "tags": [],
            "needs_background": "light"
          }
        }
      ]
    },
    {
      "cell_type": "code",
      "metadata": {
        "id": "ZaCoLS1I16Se"
      },
      "source": [
        "#to calculate rate\r\n",
        "row1='04/03/20'\r\n",
        "row2= '21/03/20'\r\n",
        "m2= m1.loc[row1::,'Total_count']"
      ],
      "execution_count": null,
      "outputs": []
    },
    {
      "cell_type": "code",
      "metadata": {
        "colab": {
          "base_uri": "https://localhost:8080/"
        },
        "id": "jcVPN07n38Mn",
        "outputId": "20c3bb7d-714d-4a59-a43d-57a4211174c1"
      },
      "source": [
        "print(m2)"
      ],
      "execution_count": null,
      "outputs": [
        {
          "output_type": "stream",
          "text": [
            "Date\n",
            "04/03/20     31\n",
            "05/03/20     33\n",
            "06/03/20     34\n",
            "07/03/20     37\n",
            "08/03/20     42\n",
            "09/03/20     49\n",
            "10/03/20     61\n",
            "11/03/20     63\n",
            "12/03/20     77\n",
            "13/03/20     85\n",
            "14/03/20     96\n",
            "15/03/20    125\n",
            "16/03/20    129\n",
            "17/03/20    154\n",
            "18/03/20    168\n",
            "19/03/20    197\n",
            "20/03/20    250\n",
            "21/03/20    310\n",
            "Name: Total_count, dtype: int64\n"
          ],
          "name": "stdout"
        }
      ]
    },
    {
      "cell_type": "code",
      "metadata": {
        "id": "B8fJKkCJ4B1R"
      },
      "source": [
        "m2= pd.DataFrame(m2,columns=[\"Total_count\"])"
      ],
      "execution_count": null,
      "outputs": []
    },
    {
      "cell_type": "code",
      "metadata": {
        "colab": {
          "base_uri": "https://localhost:8080/",
          "height": 225
        },
        "id": "ZsMkDRTp4khl",
        "outputId": "ff1817c8-1d30-46fb-9628-0551afd5f52d"
      },
      "source": [
        "m2.head()"
      ],
      "execution_count": null,
      "outputs": [
        {
          "output_type": "execute_result",
          "data": {
            "text/html": [
              "<div>\n",
              "<style scoped>\n",
              "    .dataframe tbody tr th:only-of-type {\n",
              "        vertical-align: middle;\n",
              "    }\n",
              "\n",
              "    .dataframe tbody tr th {\n",
              "        vertical-align: top;\n",
              "    }\n",
              "\n",
              "    .dataframe thead th {\n",
              "        text-align: right;\n",
              "    }\n",
              "</style>\n",
              "<table border=\"1\" class=\"dataframe\">\n",
              "  <thead>\n",
              "    <tr style=\"text-align: right;\">\n",
              "      <th></th>\n",
              "      <th>Total_count</th>\n",
              "    </tr>\n",
              "    <tr>\n",
              "      <th>Date</th>\n",
              "      <th></th>\n",
              "    </tr>\n",
              "  </thead>\n",
              "  <tbody>\n",
              "    <tr>\n",
              "      <th>04/03/20</th>\n",
              "      <td>31</td>\n",
              "    </tr>\n",
              "    <tr>\n",
              "      <th>05/03/20</th>\n",
              "      <td>33</td>\n",
              "    </tr>\n",
              "    <tr>\n",
              "      <th>06/03/20</th>\n",
              "      <td>34</td>\n",
              "    </tr>\n",
              "    <tr>\n",
              "      <th>07/03/20</th>\n",
              "      <td>37</td>\n",
              "    </tr>\n",
              "    <tr>\n",
              "      <th>08/03/20</th>\n",
              "      <td>42</td>\n",
              "    </tr>\n",
              "  </tbody>\n",
              "</table>\n",
              "</div>"
            ],
            "text/plain": [
              "          Total_count\n",
              "Date                 \n",
              "04/03/20           31\n",
              "05/03/20           33\n",
              "06/03/20           34\n",
              "07/03/20           37\n",
              "08/03/20           42"
            ]
          },
          "metadata": {
            "tags": []
          },
          "execution_count": 39
        }
      ]
    },
    {
      "cell_type": "code",
      "metadata": {
        "colab": {
          "base_uri": "https://localhost:8080/"
        },
        "id": "QotKlT_O9z1J",
        "outputId": "a1dd3e1e-f1bb-4765-ff2f-493542262f16"
      },
      "source": [
        "m2['Total_count'][row1]"
      ],
      "execution_count": null,
      "outputs": [
        {
          "output_type": "execute_result",
          "data": {
            "text/plain": [
              "31"
            ]
          },
          "metadata": {
            "tags": []
          },
          "execution_count": 41
        }
      ]
    },
    {
      "cell_type": "code",
      "metadata": {
        "id": "SCeOX2f3-jkc"
      },
      "source": [
        "m2['Rate']= m2['Total_count'].astype('float')"
      ],
      "execution_count": null,
      "outputs": []
    },
    {
      "cell_type": "code",
      "metadata": {
        "colab": {
          "base_uri": "https://localhost:8080/"
        },
        "id": "t5-bebZm_4-X",
        "outputId": "8f463d65-1de6-4d8b-bedb-882ab5699cb1"
      },
      "source": [
        "m2.dtypes"
      ],
      "execution_count": null,
      "outputs": [
        {
          "output_type": "execute_result",
          "data": {
            "text/plain": [
              "Total_count      int64\n",
              "Rate           float64\n",
              "dtype: object"
            ]
          },
          "metadata": {
            "tags": []
          },
          "execution_count": 64
        }
      ]
    },
    {
      "cell_type": "code",
      "metadata": {
        "colab": {
          "base_uri": "https://localhost:8080/"
        },
        "id": "E8xeJnLs7pIw",
        "outputId": "99d6e4dc-9f52-435d-f9e4-e9f9eab3a2fd"
      },
      "source": [
        "init_val= m2.loc[row1,'Total_count']\r\n",
        "for row in m2.index:\r\n",
        "  m2['Rate'][row]= float(m2['Total_count'][row]-init_val)/init_val\r\n",
        "  init_val= m2['Total_count'][row]"
      ],
      "execution_count": null,
      "outputs": [
        {
          "output_type": "stream",
          "text": [
            "/usr/local/lib/python3.6/dist-packages/ipykernel_launcher.py:3: SettingWithCopyWarning: \n",
            "A value is trying to be set on a copy of a slice from a DataFrame\n",
            "\n",
            "See the caveats in the documentation: https://pandas.pydata.org/pandas-docs/stable/user_guide/indexing.html#returning-a-view-versus-a-copy\n",
            "  This is separate from the ipykernel package so we can avoid doing imports until\n"
          ],
          "name": "stderr"
        }
      ]
    },
    {
      "cell_type": "code",
      "metadata": {
        "id": "rLSg-henA436"
      },
      "source": [
        ""
      ],
      "execution_count": null,
      "outputs": []
    },
    {
      "cell_type": "code",
      "metadata": {
        "colab": {
          "base_uri": "https://localhost:8080/"
        },
        "id": "NY-0EC-Y-fjp",
        "outputId": "aba7045f-53ff-442c-e2c5-890030066cb8"
      },
      "source": [
        "print(m2)"
      ],
      "execution_count": null,
      "outputs": [
        {
          "output_type": "stream",
          "text": [
            "          Total_count      Rate\n",
            "Date                           \n",
            "04/03/20           31  0.000000\n",
            "05/03/20           33  0.064516\n",
            "06/03/20           34  0.030303\n",
            "07/03/20           37  0.088235\n",
            "08/03/20           42  0.135135\n",
            "09/03/20           49  0.166667\n",
            "10/03/20           61  0.244898\n",
            "11/03/20           63  0.032787\n",
            "12/03/20           77  0.222222\n",
            "13/03/20           85  0.103896\n",
            "14/03/20           96  0.129412\n",
            "15/03/20          125  0.302083\n",
            "16/03/20          129  0.032000\n",
            "17/03/20          154  0.193798\n",
            "18/03/20          168  0.090909\n",
            "19/03/20          197  0.172619\n",
            "20/03/20          250  0.269036\n",
            "21/03/20          310  0.240000\n"
          ],
          "name": "stdout"
        }
      ]
    },
    {
      "cell_type": "code",
      "metadata": {
        "colab": {
          "base_uri": "https://localhost:8080/"
        },
        "id": "MtqWZpEJ-xLZ",
        "outputId": "0f2e0ef8-2274-4c97-f77e-7eabdf9ff352"
      },
      "source": [
        "m2.Rate.mean()"
      ],
      "execution_count": null,
      "outputs": [
        {
          "output_type": "execute_result",
          "data": {
            "text/plain": [
              "0.13991759138762885"
            ]
          },
          "metadata": {
            "tags": []
          },
          "execution_count": 67
        }
      ]
    },
    {
      "cell_type": "code",
      "metadata": {
        "id": "qY7J4EZ0CQzb"
      },
      "source": [
        "import math"
      ],
      "execution_count": null,
      "outputs": []
    },
    {
      "cell_type": "code",
      "metadata": {
        "id": "zQHhoo9FB05k"
      },
      "source": [
        "rate= 0.13991759138762885\r\n",
        "pt= 31*(math.exp(26*rate))\r\n"
      ],
      "execution_count": null,
      "outputs": []
    },
    {
      "cell_type": "code",
      "metadata": {
        "colab": {
          "base_uri": "https://localhost:8080/"
        },
        "id": "Vdrk98QECZ48",
        "outputId": "fe62014c-2a94-4daf-873c-54b91b8259dc"
      },
      "source": [
        "print(int(pt))"
      ],
      "execution_count": null,
      "outputs": [
        {
          "output_type": "stream",
          "text": [
            "1178\n"
          ],
          "name": "stdout"
        }
      ]
    },
    {
      "cell_type": "code",
      "metadata": {
        "id": "jL_VF714Ckl0"
      },
      "source": [
        ""
      ],
      "execution_count": null,
      "outputs": []
    }
  ]
}