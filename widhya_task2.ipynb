{
  "nbformat": 4,
  "nbformat_minor": 0,
  "metadata": {
    "colab": {
      "name": "widhya task2.ipynb",
      "provenance": [],
      "collapsed_sections": [],
      "authorship_tag": "ABX9TyPnh+WRoTAsIvdUdZnX2LBo",
      "include_colab_link": true
    },
    "kernelspec": {
      "name": "python3",
      "display_name": "Python 3"
    }
  },
  "cells": [
    {
      "cell_type": "markdown",
      "metadata": {
        "id": "view-in-github",
        "colab_type": "text"
      },
      "source": [
        "<a href=\"https://colab.research.google.com/github/MaitriKhanna/Widhya-Projects/blob/main/widhya_task2.ipynb\" target=\"_parent\"><img src=\"https://colab.research.google.com/assets/colab-badge.svg\" alt=\"Open In Colab\"/></a>"
      ]
    },
    {
      "cell_type": "code",
      "metadata": {
        "colab": {
          "base_uri": "https://localhost:8080/"
        },
        "id": "3MeTwdycx3cb",
        "outputId": "d6164c02-b59c-4bf8-948c-b5d42ec907c2"
      },
      "source": [
        "from google.colab import drive \r\n",
        "drive.mount('/content/drive')"
      ],
      "execution_count": null,
      "outputs": [
        {
          "output_type": "stream",
          "text": [
            "Mounted at /content/drive\n"
          ],
          "name": "stdout"
        }
      ]
    },
    {
      "cell_type": "code",
      "metadata": {
        "colab": {
          "base_uri": "https://localhost:8080/"
        },
        "id": "PCQP0RtH0fnI",
        "outputId": "0c8203db-89cc-42f9-a790-a6ca47b5b714"
      },
      "source": [
        "!apt install unzip"
      ],
      "execution_count": null,
      "outputs": [
        {
          "output_type": "stream",
          "text": [
            "Reading package lists... Done\n",
            "Building dependency tree       \n",
            "Reading state information... Done\n",
            "unzip is already the newest version (6.0-21ubuntu1.1).\n",
            "0 upgraded, 0 newly installed, 0 to remove and 15 not upgraded.\n"
          ],
          "name": "stdout"
        }
      ]
    },
    {
      "cell_type": "code",
      "metadata": {
        "colab": {
          "base_uri": "https://localhost:8080/"
        },
        "id": "ffUhu-uW03e0",
        "outputId": "fdcce86a-ab8a-4468-f277-564fd8a6d2c3"
      },
      "source": [
        "!unzip -u \"/content/drive/MyDrive/Colab Notebooks/Widhya tasks/flights.csv.zip\" -d \"/content/drive/MyDrive/Colab Notebooks/Widhya tasks/flights\""
      ],
      "execution_count": null,
      "outputs": [
        {
          "output_type": "stream",
          "text": [
            "Archive:  /content/drive/MyDrive/Colab Notebooks/Widhya tasks/flights.csv.zip\n",
            "  inflating: /content/drive/MyDrive/Colab Notebooks/Widhya tasks/flights/flights.csv  \n"
          ],
          "name": "stdout"
        }
      ]
    },
    {
      "cell_type": "code",
      "metadata": {
        "id": "hg8x9-_07At7"
      },
      "source": [
        "import pandas as pd"
      ],
      "execution_count": null,
      "outputs": []
    },
    {
      "cell_type": "code",
      "metadata": {
        "id": "IRwfJM5Q7OuL"
      },
      "source": [
        "df= pd.read_csv(\"/content/drive/MyDrive/Colab Notebooks/Widhya tasks/flights/flights.csv\",low_memory= False)"
      ],
      "execution_count": null,
      "outputs": []
    },
    {
      "cell_type": "code",
      "metadata": {
        "colab": {
          "base_uri": "https://localhost:8080/",
          "height": 215
        },
        "id": "g-B-fLjF87rE",
        "outputId": "219ae687-c3f4-4901-863e-ac83e6944fff"
      },
      "source": [
        "df.head()"
      ],
      "execution_count": null,
      "outputs": [
        {
          "output_type": "execute_result",
          "data": {
            "text/html": [
              "<div>\n",
              "<style scoped>\n",
              "    .dataframe tbody tr th:only-of-type {\n",
              "        vertical-align: middle;\n",
              "    }\n",
              "\n",
              "    .dataframe tbody tr th {\n",
              "        vertical-align: top;\n",
              "    }\n",
              "\n",
              "    .dataframe thead th {\n",
              "        text-align: right;\n",
              "    }\n",
              "</style>\n",
              "<table border=\"1\" class=\"dataframe\">\n",
              "  <thead>\n",
              "    <tr style=\"text-align: right;\">\n",
              "      <th></th>\n",
              "      <th>YEAR</th>\n",
              "      <th>MONTH</th>\n",
              "      <th>DAY</th>\n",
              "      <th>DAY_OF_WEEK</th>\n",
              "      <th>AIRLINE</th>\n",
              "      <th>FLIGHT_NUMBER</th>\n",
              "      <th>TAIL_NUMBER</th>\n",
              "      <th>ORIGIN_AIRPORT</th>\n",
              "      <th>DESTINATION_AIRPORT</th>\n",
              "      <th>SCHEDULED_DEPARTURE</th>\n",
              "      <th>DEPARTURE_TIME</th>\n",
              "      <th>DEPARTURE_DELAY</th>\n",
              "      <th>TAXI_OUT</th>\n",
              "      <th>WHEELS_OFF</th>\n",
              "      <th>SCHEDULED_TIME</th>\n",
              "      <th>ELAPSED_TIME</th>\n",
              "      <th>AIR_TIME</th>\n",
              "      <th>DISTANCE</th>\n",
              "      <th>WHEELS_ON</th>\n",
              "      <th>TAXI_IN</th>\n",
              "      <th>SCHEDULED_ARRIVAL</th>\n",
              "      <th>ARRIVAL_TIME</th>\n",
              "      <th>ARRIVAL_DELAY</th>\n",
              "      <th>DIVERTED</th>\n",
              "      <th>CANCELLED</th>\n",
              "      <th>CANCELLATION_REASON</th>\n",
              "      <th>AIR_SYSTEM_DELAY</th>\n",
              "      <th>SECURITY_DELAY</th>\n",
              "      <th>AIRLINE_DELAY</th>\n",
              "      <th>LATE_AIRCRAFT_DELAY</th>\n",
              "      <th>WEATHER_DELAY</th>\n",
              "    </tr>\n",
              "  </thead>\n",
              "  <tbody>\n",
              "    <tr>\n",
              "      <th>0</th>\n",
              "      <td>2015</td>\n",
              "      <td>1</td>\n",
              "      <td>1</td>\n",
              "      <td>4</td>\n",
              "      <td>AS</td>\n",
              "      <td>98</td>\n",
              "      <td>N407AS</td>\n",
              "      <td>ANC</td>\n",
              "      <td>SEA</td>\n",
              "      <td>5</td>\n",
              "      <td>2354.0</td>\n",
              "      <td>-11.0</td>\n",
              "      <td>21.0</td>\n",
              "      <td>15.0</td>\n",
              "      <td>205.0</td>\n",
              "      <td>194.0</td>\n",
              "      <td>169.0</td>\n",
              "      <td>1448</td>\n",
              "      <td>404.0</td>\n",
              "      <td>4.0</td>\n",
              "      <td>430</td>\n",
              "      <td>408.0</td>\n",
              "      <td>-22.0</td>\n",
              "      <td>0</td>\n",
              "      <td>0</td>\n",
              "      <td>NaN</td>\n",
              "      <td>NaN</td>\n",
              "      <td>NaN</td>\n",
              "      <td>NaN</td>\n",
              "      <td>NaN</td>\n",
              "      <td>NaN</td>\n",
              "    </tr>\n",
              "    <tr>\n",
              "      <th>1</th>\n",
              "      <td>2015</td>\n",
              "      <td>1</td>\n",
              "      <td>1</td>\n",
              "      <td>4</td>\n",
              "      <td>AA</td>\n",
              "      <td>2336</td>\n",
              "      <td>N3KUAA</td>\n",
              "      <td>LAX</td>\n",
              "      <td>PBI</td>\n",
              "      <td>10</td>\n",
              "      <td>2.0</td>\n",
              "      <td>-8.0</td>\n",
              "      <td>12.0</td>\n",
              "      <td>14.0</td>\n",
              "      <td>280.0</td>\n",
              "      <td>279.0</td>\n",
              "      <td>263.0</td>\n",
              "      <td>2330</td>\n",
              "      <td>737.0</td>\n",
              "      <td>4.0</td>\n",
              "      <td>750</td>\n",
              "      <td>741.0</td>\n",
              "      <td>-9.0</td>\n",
              "      <td>0</td>\n",
              "      <td>0</td>\n",
              "      <td>NaN</td>\n",
              "      <td>NaN</td>\n",
              "      <td>NaN</td>\n",
              "      <td>NaN</td>\n",
              "      <td>NaN</td>\n",
              "      <td>NaN</td>\n",
              "    </tr>\n",
              "    <tr>\n",
              "      <th>2</th>\n",
              "      <td>2015</td>\n",
              "      <td>1</td>\n",
              "      <td>1</td>\n",
              "      <td>4</td>\n",
              "      <td>US</td>\n",
              "      <td>840</td>\n",
              "      <td>N171US</td>\n",
              "      <td>SFO</td>\n",
              "      <td>CLT</td>\n",
              "      <td>20</td>\n",
              "      <td>18.0</td>\n",
              "      <td>-2.0</td>\n",
              "      <td>16.0</td>\n",
              "      <td>34.0</td>\n",
              "      <td>286.0</td>\n",
              "      <td>293.0</td>\n",
              "      <td>266.0</td>\n",
              "      <td>2296</td>\n",
              "      <td>800.0</td>\n",
              "      <td>11.0</td>\n",
              "      <td>806</td>\n",
              "      <td>811.0</td>\n",
              "      <td>5.0</td>\n",
              "      <td>0</td>\n",
              "      <td>0</td>\n",
              "      <td>NaN</td>\n",
              "      <td>NaN</td>\n",
              "      <td>NaN</td>\n",
              "      <td>NaN</td>\n",
              "      <td>NaN</td>\n",
              "      <td>NaN</td>\n",
              "    </tr>\n",
              "    <tr>\n",
              "      <th>3</th>\n",
              "      <td>2015</td>\n",
              "      <td>1</td>\n",
              "      <td>1</td>\n",
              "      <td>4</td>\n",
              "      <td>AA</td>\n",
              "      <td>258</td>\n",
              "      <td>N3HYAA</td>\n",
              "      <td>LAX</td>\n",
              "      <td>MIA</td>\n",
              "      <td>20</td>\n",
              "      <td>15.0</td>\n",
              "      <td>-5.0</td>\n",
              "      <td>15.0</td>\n",
              "      <td>30.0</td>\n",
              "      <td>285.0</td>\n",
              "      <td>281.0</td>\n",
              "      <td>258.0</td>\n",
              "      <td>2342</td>\n",
              "      <td>748.0</td>\n",
              "      <td>8.0</td>\n",
              "      <td>805</td>\n",
              "      <td>756.0</td>\n",
              "      <td>-9.0</td>\n",
              "      <td>0</td>\n",
              "      <td>0</td>\n",
              "      <td>NaN</td>\n",
              "      <td>NaN</td>\n",
              "      <td>NaN</td>\n",
              "      <td>NaN</td>\n",
              "      <td>NaN</td>\n",
              "      <td>NaN</td>\n",
              "    </tr>\n",
              "    <tr>\n",
              "      <th>4</th>\n",
              "      <td>2015</td>\n",
              "      <td>1</td>\n",
              "      <td>1</td>\n",
              "      <td>4</td>\n",
              "      <td>AS</td>\n",
              "      <td>135</td>\n",
              "      <td>N527AS</td>\n",
              "      <td>SEA</td>\n",
              "      <td>ANC</td>\n",
              "      <td>25</td>\n",
              "      <td>24.0</td>\n",
              "      <td>-1.0</td>\n",
              "      <td>11.0</td>\n",
              "      <td>35.0</td>\n",
              "      <td>235.0</td>\n",
              "      <td>215.0</td>\n",
              "      <td>199.0</td>\n",
              "      <td>1448</td>\n",
              "      <td>254.0</td>\n",
              "      <td>5.0</td>\n",
              "      <td>320</td>\n",
              "      <td>259.0</td>\n",
              "      <td>-21.0</td>\n",
              "      <td>0</td>\n",
              "      <td>0</td>\n",
              "      <td>NaN</td>\n",
              "      <td>NaN</td>\n",
              "      <td>NaN</td>\n",
              "      <td>NaN</td>\n",
              "      <td>NaN</td>\n",
              "      <td>NaN</td>\n",
              "    </tr>\n",
              "  </tbody>\n",
              "</table>\n",
              "</div>"
            ],
            "text/plain": [
              "   YEAR  MONTH  DAY  ...  AIRLINE_DELAY LATE_AIRCRAFT_DELAY  WEATHER_DELAY\n",
              "0  2015      1    1  ...            NaN                 NaN            NaN\n",
              "1  2015      1    1  ...            NaN                 NaN            NaN\n",
              "2  2015      1    1  ...            NaN                 NaN            NaN\n",
              "3  2015      1    1  ...            NaN                 NaN            NaN\n",
              "4  2015      1    1  ...            NaN                 NaN            NaN\n",
              "\n",
              "[5 rows x 31 columns]"
            ]
          },
          "metadata": {
            "tags": []
          },
          "execution_count": 26
        }
      ]
    },
    {
      "cell_type": "code",
      "metadata": {
        "id": "SjzlHwu-8TCW"
      },
      "source": [
        "df= df.loc[0:99999,:]"
      ],
      "execution_count": null,
      "outputs": []
    },
    {
      "cell_type": "code",
      "metadata": {
        "colab": {
          "base_uri": "https://localhost:8080/"
        },
        "id": "MZoM7mIO8p_v",
        "outputId": "56b2f610-1c7d-4c24-9fa8-63d3ec5a2eff"
      },
      "source": [
        "df.info()"
      ],
      "execution_count": null,
      "outputs": [
        {
          "output_type": "stream",
          "text": [
            "<class 'pandas.core.frame.DataFrame'>\n",
            "RangeIndex: 100000 entries, 0 to 99999\n",
            "Data columns (total 31 columns):\n",
            " #   Column               Non-Null Count   Dtype  \n",
            "---  ------               --------------   -----  \n",
            " 0   YEAR                 100000 non-null  int64  \n",
            " 1   MONTH                100000 non-null  int64  \n",
            " 2   DAY                  100000 non-null  int64  \n",
            " 3   DAY_OF_WEEK          100000 non-null  int64  \n",
            " 4   AIRLINE              100000 non-null  object \n",
            " 5   FLIGHT_NUMBER        100000 non-null  int64  \n",
            " 6   TAIL_NUMBER          99833 non-null   object \n",
            " 7   ORIGIN_AIRPORT       100000 non-null  object \n",
            " 8   DESTINATION_AIRPORT  100000 non-null  object \n",
            " 9   SCHEDULED_DEPARTURE  100000 non-null  int64  \n",
            " 10  DEPARTURE_TIME       97702 non-null   float64\n",
            " 11  DEPARTURE_DELAY      97702 non-null   float64\n",
            " 12  TAXI_OUT             97629 non-null   float64\n",
            " 13  WHEELS_OFF           97629 non-null   float64\n",
            " 14  SCHEDULED_TIME       100000 non-null  float64\n",
            " 15  ELAPSED_TIME         97387 non-null   float64\n",
            " 16  AIR_TIME             97387 non-null   float64\n",
            " 17  DISTANCE             100000 non-null  int64  \n",
            " 18  WHEELS_ON            97560 non-null   float64\n",
            " 19  TAXI_IN              97560 non-null   float64\n",
            " 20  SCHEDULED_ARRIVAL    100000 non-null  int64  \n",
            " 21  ARRIVAL_TIME         97560 non-null   float64\n",
            " 22  ARRIVAL_DELAY        97387 non-null   float64\n",
            " 23  DIVERTED             100000 non-null  int64  \n",
            " 24  CANCELLED            100000 non-null  int64  \n",
            " 25  CANCELLATION_REASON  2389 non-null    object \n",
            " 26  AIR_SYSTEM_DELAY     34625 non-null   float64\n",
            " 27  SECURITY_DELAY       34625 non-null   float64\n",
            " 28  AIRLINE_DELAY        34625 non-null   float64\n",
            " 29  LATE_AIRCRAFT_DELAY  34625 non-null   float64\n",
            " 30  WEATHER_DELAY        34625 non-null   float64\n",
            "dtypes: float64(16), int64(10), object(5)\n",
            "memory usage: 23.7+ MB\n"
          ],
          "name": "stdout"
        }
      ]
    },
    {
      "cell_type": "code",
      "metadata": {
        "colab": {
          "base_uri": "https://localhost:8080/",
          "height": 215
        },
        "id": "MXkzfTn_8r-f",
        "outputId": "7dfff822-965c-4c8d-bc2f-76e65b4470d5"
      },
      "source": [
        "df.head()"
      ],
      "execution_count": null,
      "outputs": [
        {
          "output_type": "execute_result",
          "data": {
            "text/html": [
              "<div>\n",
              "<style scoped>\n",
              "    .dataframe tbody tr th:only-of-type {\n",
              "        vertical-align: middle;\n",
              "    }\n",
              "\n",
              "    .dataframe tbody tr th {\n",
              "        vertical-align: top;\n",
              "    }\n",
              "\n",
              "    .dataframe thead th {\n",
              "        text-align: right;\n",
              "    }\n",
              "</style>\n",
              "<table border=\"1\" class=\"dataframe\">\n",
              "  <thead>\n",
              "    <tr style=\"text-align: right;\">\n",
              "      <th></th>\n",
              "      <th>YEAR</th>\n",
              "      <th>MONTH</th>\n",
              "      <th>DAY</th>\n",
              "      <th>DAY_OF_WEEK</th>\n",
              "      <th>AIRLINE</th>\n",
              "      <th>FLIGHT_NUMBER</th>\n",
              "      <th>TAIL_NUMBER</th>\n",
              "      <th>ORIGIN_AIRPORT</th>\n",
              "      <th>DESTINATION_AIRPORT</th>\n",
              "      <th>SCHEDULED_DEPARTURE</th>\n",
              "      <th>DEPARTURE_TIME</th>\n",
              "      <th>DEPARTURE_DELAY</th>\n",
              "      <th>TAXI_OUT</th>\n",
              "      <th>WHEELS_OFF</th>\n",
              "      <th>SCHEDULED_TIME</th>\n",
              "      <th>ELAPSED_TIME</th>\n",
              "      <th>AIR_TIME</th>\n",
              "      <th>DISTANCE</th>\n",
              "      <th>WHEELS_ON</th>\n",
              "      <th>TAXI_IN</th>\n",
              "      <th>SCHEDULED_ARRIVAL</th>\n",
              "      <th>ARRIVAL_TIME</th>\n",
              "      <th>ARRIVAL_DELAY</th>\n",
              "      <th>DIVERTED</th>\n",
              "      <th>CANCELLED</th>\n",
              "      <th>CANCELLATION_REASON</th>\n",
              "      <th>AIR_SYSTEM_DELAY</th>\n",
              "      <th>SECURITY_DELAY</th>\n",
              "      <th>AIRLINE_DELAY</th>\n",
              "      <th>LATE_AIRCRAFT_DELAY</th>\n",
              "      <th>WEATHER_DELAY</th>\n",
              "    </tr>\n",
              "  </thead>\n",
              "  <tbody>\n",
              "    <tr>\n",
              "      <th>0</th>\n",
              "      <td>2015</td>\n",
              "      <td>1</td>\n",
              "      <td>1</td>\n",
              "      <td>4</td>\n",
              "      <td>AS</td>\n",
              "      <td>98</td>\n",
              "      <td>N407AS</td>\n",
              "      <td>ANC</td>\n",
              "      <td>SEA</td>\n",
              "      <td>5</td>\n",
              "      <td>2354.0</td>\n",
              "      <td>-11.0</td>\n",
              "      <td>21.0</td>\n",
              "      <td>15.0</td>\n",
              "      <td>205.0</td>\n",
              "      <td>194.0</td>\n",
              "      <td>169.0</td>\n",
              "      <td>1448</td>\n",
              "      <td>404.0</td>\n",
              "      <td>4.0</td>\n",
              "      <td>430</td>\n",
              "      <td>408.0</td>\n",
              "      <td>-22.0</td>\n",
              "      <td>0</td>\n",
              "      <td>0</td>\n",
              "      <td>NaN</td>\n",
              "      <td>NaN</td>\n",
              "      <td>NaN</td>\n",
              "      <td>NaN</td>\n",
              "      <td>NaN</td>\n",
              "      <td>NaN</td>\n",
              "    </tr>\n",
              "    <tr>\n",
              "      <th>1</th>\n",
              "      <td>2015</td>\n",
              "      <td>1</td>\n",
              "      <td>1</td>\n",
              "      <td>4</td>\n",
              "      <td>AA</td>\n",
              "      <td>2336</td>\n",
              "      <td>N3KUAA</td>\n",
              "      <td>LAX</td>\n",
              "      <td>PBI</td>\n",
              "      <td>10</td>\n",
              "      <td>2.0</td>\n",
              "      <td>-8.0</td>\n",
              "      <td>12.0</td>\n",
              "      <td>14.0</td>\n",
              "      <td>280.0</td>\n",
              "      <td>279.0</td>\n",
              "      <td>263.0</td>\n",
              "      <td>2330</td>\n",
              "      <td>737.0</td>\n",
              "      <td>4.0</td>\n",
              "      <td>750</td>\n",
              "      <td>741.0</td>\n",
              "      <td>-9.0</td>\n",
              "      <td>0</td>\n",
              "      <td>0</td>\n",
              "      <td>NaN</td>\n",
              "      <td>NaN</td>\n",
              "      <td>NaN</td>\n",
              "      <td>NaN</td>\n",
              "      <td>NaN</td>\n",
              "      <td>NaN</td>\n",
              "    </tr>\n",
              "    <tr>\n",
              "      <th>2</th>\n",
              "      <td>2015</td>\n",
              "      <td>1</td>\n",
              "      <td>1</td>\n",
              "      <td>4</td>\n",
              "      <td>US</td>\n",
              "      <td>840</td>\n",
              "      <td>N171US</td>\n",
              "      <td>SFO</td>\n",
              "      <td>CLT</td>\n",
              "      <td>20</td>\n",
              "      <td>18.0</td>\n",
              "      <td>-2.0</td>\n",
              "      <td>16.0</td>\n",
              "      <td>34.0</td>\n",
              "      <td>286.0</td>\n",
              "      <td>293.0</td>\n",
              "      <td>266.0</td>\n",
              "      <td>2296</td>\n",
              "      <td>800.0</td>\n",
              "      <td>11.0</td>\n",
              "      <td>806</td>\n",
              "      <td>811.0</td>\n",
              "      <td>5.0</td>\n",
              "      <td>0</td>\n",
              "      <td>0</td>\n",
              "      <td>NaN</td>\n",
              "      <td>NaN</td>\n",
              "      <td>NaN</td>\n",
              "      <td>NaN</td>\n",
              "      <td>NaN</td>\n",
              "      <td>NaN</td>\n",
              "    </tr>\n",
              "    <tr>\n",
              "      <th>3</th>\n",
              "      <td>2015</td>\n",
              "      <td>1</td>\n",
              "      <td>1</td>\n",
              "      <td>4</td>\n",
              "      <td>AA</td>\n",
              "      <td>258</td>\n",
              "      <td>N3HYAA</td>\n",
              "      <td>LAX</td>\n",
              "      <td>MIA</td>\n",
              "      <td>20</td>\n",
              "      <td>15.0</td>\n",
              "      <td>-5.0</td>\n",
              "      <td>15.0</td>\n",
              "      <td>30.0</td>\n",
              "      <td>285.0</td>\n",
              "      <td>281.0</td>\n",
              "      <td>258.0</td>\n",
              "      <td>2342</td>\n",
              "      <td>748.0</td>\n",
              "      <td>8.0</td>\n",
              "      <td>805</td>\n",
              "      <td>756.0</td>\n",
              "      <td>-9.0</td>\n",
              "      <td>0</td>\n",
              "      <td>0</td>\n",
              "      <td>NaN</td>\n",
              "      <td>NaN</td>\n",
              "      <td>NaN</td>\n",
              "      <td>NaN</td>\n",
              "      <td>NaN</td>\n",
              "      <td>NaN</td>\n",
              "    </tr>\n",
              "    <tr>\n",
              "      <th>4</th>\n",
              "      <td>2015</td>\n",
              "      <td>1</td>\n",
              "      <td>1</td>\n",
              "      <td>4</td>\n",
              "      <td>AS</td>\n",
              "      <td>135</td>\n",
              "      <td>N527AS</td>\n",
              "      <td>SEA</td>\n",
              "      <td>ANC</td>\n",
              "      <td>25</td>\n",
              "      <td>24.0</td>\n",
              "      <td>-1.0</td>\n",
              "      <td>11.0</td>\n",
              "      <td>35.0</td>\n",
              "      <td>235.0</td>\n",
              "      <td>215.0</td>\n",
              "      <td>199.0</td>\n",
              "      <td>1448</td>\n",
              "      <td>254.0</td>\n",
              "      <td>5.0</td>\n",
              "      <td>320</td>\n",
              "      <td>259.0</td>\n",
              "      <td>-21.0</td>\n",
              "      <td>0</td>\n",
              "      <td>0</td>\n",
              "      <td>NaN</td>\n",
              "      <td>NaN</td>\n",
              "      <td>NaN</td>\n",
              "      <td>NaN</td>\n",
              "      <td>NaN</td>\n",
              "      <td>NaN</td>\n",
              "    </tr>\n",
              "  </tbody>\n",
              "</table>\n",
              "</div>"
            ],
            "text/plain": [
              "   YEAR  MONTH  DAY  ...  AIRLINE_DELAY LATE_AIRCRAFT_DELAY  WEATHER_DELAY\n",
              "0  2015      1    1  ...            NaN                 NaN            NaN\n",
              "1  2015      1    1  ...            NaN                 NaN            NaN\n",
              "2  2015      1    1  ...            NaN                 NaN            NaN\n",
              "3  2015      1    1  ...            NaN                 NaN            NaN\n",
              "4  2015      1    1  ...            NaN                 NaN            NaN\n",
              "\n",
              "[5 rows x 31 columns]"
            ]
          },
          "metadata": {
            "tags": []
          },
          "execution_count": 29
        }
      ]
    },
    {
      "cell_type": "code",
      "metadata": {
        "colab": {
          "base_uri": "https://localhost:8080/"
        },
        "id": "OtguJE-Q94EM",
        "outputId": "fa4b5925-1d33-4ba9-9ca2-a04690704313"
      },
      "source": [
        "df['DIVERTED'].value_counts()"
      ],
      "execution_count": null,
      "outputs": [
        {
          "output_type": "execute_result",
          "data": {
            "text/plain": [
              "0    99776\n",
              "1      224\n",
              "Name: DIVERTED, dtype: int64"
            ]
          },
          "metadata": {
            "tags": []
          },
          "execution_count": 30
        }
      ]
    },
    {
      "cell_type": "code",
      "metadata": {
        "id": "-BGYdMiMz6_b"
      },
      "source": [
        "import numpy as np\r\n",
        "from matplotlib import pyplot as plt"
      ],
      "execution_count": null,
      "outputs": []
    },
    {
      "cell_type": "code",
      "metadata": {
        "id": "KoRhTka5XE2a"
      },
      "source": [
        "import seaborn as sns"
      ],
      "execution_count": null,
      "outputs": []
    },
    {
      "cell_type": "code",
      "metadata": {
        "id": "ECOmshhG-Hvu"
      },
      "source": [
        "# Function to calculate correlation coefficient between two arrays\r\n",
        "def corr(x, y, **kwargs):\r\n",
        "    \r\n",
        "    # Calculate the value\r\n",
        "    coef = np.corrcoef(x, y)[0][1]\r\n",
        "    # Make the label\r\n",
        "    label = r'$\\rho$ = ' + str(round(coef, 2))\r\n",
        "    \r\n",
        "    # Add the label to the plot\r\n",
        "    ax = plt.gca()\r\n",
        "    ax.annotate(label, xy = (0.2, 0.95), size = 40, xycoords = ax.transAxes)"
      ],
      "execution_count": null,
      "outputs": []
    },
    {
      "cell_type": "code",
      "metadata": {
        "colab": {
          "base_uri": "https://localhost:8080/"
        },
        "id": "P-3iVAVrTSUW",
        "outputId": "1875d273-3390-498c-d5bb-753837f07130"
      },
      "source": [
        "df.columns"
      ],
      "execution_count": null,
      "outputs": [
        {
          "output_type": "execute_result",
          "data": {
            "text/plain": [
              "Index(['YEAR', 'MONTH', 'DAY', 'DAY_OF_WEEK', 'AIRLINE', 'FLIGHT_NUMBER',\n",
              "       'TAIL_NUMBER', 'ORIGIN_AIRPORT', 'DESTINATION_AIRPORT',\n",
              "       'SCHEDULED_DEPARTURE', 'DEPARTURE_TIME', 'DEPARTURE_DELAY', 'TAXI_OUT',\n",
              "       'WHEELS_OFF', 'SCHEDULED_TIME', 'ELAPSED_TIME', 'AIR_TIME', 'DISTANCE',\n",
              "       'WHEELS_ON', 'TAXI_IN', 'SCHEDULED_ARRIVAL', 'ARRIVAL_TIME',\n",
              "       'ARRIVAL_DELAY', 'DIVERTED', 'CANCELLED', 'CANCELLATION_REASON',\n",
              "       'AIR_SYSTEM_DELAY', 'SECURITY_DELAY', 'AIRLINE_DELAY',\n",
              "       'LATE_AIRCRAFT_DELAY', 'WEATHER_DELAY'],\n",
              "      dtype='object')"
            ]
          },
          "metadata": {
            "tags": []
          },
          "execution_count": 33
        }
      ]
    },
    {
      "cell_type": "code",
      "metadata": {
        "id": "VB1kZDqgzSAR"
      },
      "source": [
        ""
      ],
      "execution_count": null,
      "outputs": []
    },
    {
      "cell_type": "code",
      "metadata": {
        "colab": {
          "base_uri": "https://localhost:8080/",
          "height": 1000
        },
        "id": "j9IWfuPgww4a",
        "outputId": "384335fb-bcbf-458a-938c-f9573c2167bb"
      },
      "source": [
        "grid = sns.pairplot(data= df, height = 5,x_vars=['ARRIVAL_DELAY'],y_vars=['DEPARTURE_DELAY', 'TAXI_OUT',\r\n",
        "        'TAXI_IN',\r\n",
        "       'AIR_SYSTEM_DELAY', 'SECURITY_DELAY', 'AIRLINE_DELAY',\r\n",
        "       'LATE_AIRCRAFT_DELAY', 'WEATHER_DELAY'],dropna= True)\r\n",
        "grid = grid.map(corr)\r\n",
        "plt.show()"
      ],
      "execution_count": null,
      "outputs": [
        {
          "output_type": "display_data",
          "data": {
            "image/png": "[encoded data removed]",
            "text/plain": [
              "<Figure size 360x2880 with 8 Axes>"
            ]
          },
          "metadata": {
            "tags": [],
            "needs_background": "light"
          }
        }
      ]
    },
    {
      "cell_type": "markdown",
      "metadata": {
        "id": "YiSU06QUch_t"
      },
      "source": [
        "we can see that maximum relation is with departure delay\r\n"
      ]
    },
    {
      "cell_type": "code",
      "metadata": {
        "colab": {
          "base_uri": "https://localhost:8080/"
        },
        "id": "gDMYGptugIDh",
        "outputId": "9ed1d95f-5f86-4ae6-9409-093c359b08b3"
      },
      "source": [
        "df.mean(axis=0)"
      ],
      "execution_count": null,
      "outputs": [
        {
          "output_type": "execute_result",
          "data": {
            "text/plain": [
              "YEAR                   2015.000000\n",
              "MONTH                     1.000000\n",
              "DAY                       3.733920\n",
              "DAY_OF_WEEK               4.107310\n",
              "FLIGHT_NUMBER          2240.827980\n",
              "SCHEDULED_DEPARTURE    1306.348280\n",
              "DEPARTURE_TIME         1326.265614\n",
              "DEPARTURE_DELAY          19.937749\n",
              "TAXI_OUT                 17.155917\n",
              "WHEELS_OFF             1348.426154\n",
              "SCHEDULED_TIME          143.039340\n",
              "ELAPSED_TIME            142.362995\n",
              "AIR_TIME                117.098032\n",
              "DISTANCE                830.389430\n",
              "WHEELS_ON              1454.528690\n",
              "TAXI_IN                   8.117876\n",
              "SCHEDULED_ARRIVAL      1481.115620\n",
              "ARRIVAL_TIME           1458.029920\n",
              "ARRIVAL_DELAY            18.342304\n",
              "DIVERTED                  0.002240\n",
              "CANCELLED                 0.023890\n",
              "AIR_SYSTEM_DELAY         14.026801\n",
              "SECURITY_DELAY            0.070787\n",
              "AIRLINE_DELAY            17.853921\n",
              "LATE_AIRCRAFT_DELAY      26.014556\n",
              "WEATHER_DELAY             2.751971\n",
              "dtype: float64"
            ]
          },
          "metadata": {
            "tags": []
          },
          "execution_count": 50
        }
      ]
    },
    {
      "cell_type": "code",
      "metadata": {
        "colab": {
          "base_uri": "https://localhost:8080/"
        },
        "id": "zcPl4g-AzQhy",
        "outputId": "e2792c0c-4e32-4f4b-e31a-e53a2550e979"
      },
      "source": [
        "df.isna().sum()"
      ],
      "execution_count": null,
      "outputs": [
        {
          "output_type": "execute_result",
          "data": {
            "text/plain": [
              "YEAR                       0\n",
              "MONTH                      0\n",
              "DAY                        0\n",
              "DAY_OF_WEEK                0\n",
              "AIRLINE                    0\n",
              "FLIGHT_NUMBER              0\n",
              "TAIL_NUMBER              167\n",
              "ORIGIN_AIRPORT             0\n",
              "DESTINATION_AIRPORT        0\n",
              "SCHEDULED_DEPARTURE        0\n",
              "DEPARTURE_TIME          2298\n",
              "DEPARTURE_DELAY         2298\n",
              "TAXI_OUT                2371\n",
              "WHEELS_OFF              2371\n",
              "SCHEDULED_TIME             0\n",
              "ELAPSED_TIME            2613\n",
              "AIR_TIME                2613\n",
              "DISTANCE                   0\n",
              "WHEELS_ON               2440\n",
              "TAXI_IN                 2440\n",
              "SCHEDULED_ARRIVAL          0\n",
              "ARRIVAL_TIME            2440\n",
              "ARRIVAL_DELAY           2613\n",
              "DIVERTED                   0\n",
              "CANCELLED                  0\n",
              "CANCELLATION_REASON    97611\n",
              "AIR_SYSTEM_DELAY       65375\n",
              "SECURITY_DELAY         65375\n",
              "AIRLINE_DELAY          65375\n",
              "LATE_AIRCRAFT_DELAY    65375\n",
              "WEATHER_DELAY          65375\n",
              "dtype: int64"
            ]
          },
          "metadata": {
            "tags": []
          },
          "execution_count": 43
        }
      ]
    },
    {
      "cell_type": "code",
      "metadata": {
        "id": "qNeVdAzsdMaq"
      },
      "source": [
        "dt= df.drop(['YEAR','FLIGHT_NUMBER','AIRLINE','DISTANCE','TAIL_NUMBER','TAXI_OUT','SCHEDULED_TIME','ARRIVAL_TIME','WHEELS_OFF','WHEELS_ON',\r\n",
        "'ELAPSED_TIME','AIR_TIME','ARRIVAL_TIME','TAXI_IN','DAY_OF_WEEK','CANCELLATION_REASON'],axis=1)"
      ],
      "execution_count": null,
      "outputs": []
    },
    {
      "cell_type": "code",
      "metadata": {
        "colab": {
          "base_uri": "https://localhost:8080/",
          "height": 215
        },
        "id": "SbJlqwe7e-Zg",
        "outputId": "5b7cf1b4-9b88-44a4-dc2e-df9c0efccab2"
      },
      "source": [
        "dt.head()"
      ],
      "execution_count": null,
      "outputs": [
        {
          "output_type": "execute_result",
          "data": {
            "text/html": [
              "<div>\n",
              "<style scoped>\n",
              "    .dataframe tbody tr th:only-of-type {\n",
              "        vertical-align: middle;\n",
              "    }\n",
              "\n",
              "    .dataframe tbody tr th {\n",
              "        vertical-align: top;\n",
              "    }\n",
              "\n",
              "    .dataframe thead th {\n",
              "        text-align: right;\n",
              "    }\n",
              "</style>\n",
              "<table border=\"1\" class=\"dataframe\">\n",
              "  <thead>\n",
              "    <tr style=\"text-align: right;\">\n",
              "      <th></th>\n",
              "      <th>MONTH</th>\n",
              "      <th>DAY</th>\n",
              "      <th>ORIGIN_AIRPORT</th>\n",
              "      <th>DESTINATION_AIRPORT</th>\n",
              "      <th>SCHEDULED_DEPARTURE</th>\n",
              "      <th>DEPARTURE_TIME</th>\n",
              "      <th>DEPARTURE_DELAY</th>\n",
              "      <th>SCHEDULED_ARRIVAL</th>\n",
              "      <th>ARRIVAL_DELAY</th>\n",
              "      <th>DIVERTED</th>\n",
              "      <th>CANCELLED</th>\n",
              "      <th>AIR_SYSTEM_DELAY</th>\n",
              "      <th>SECURITY_DELAY</th>\n",
              "      <th>AIRLINE_DELAY</th>\n",
              "      <th>LATE_AIRCRAFT_DELAY</th>\n",
              "      <th>WEATHER_DELAY</th>\n",
              "    </tr>\n",
              "  </thead>\n",
              "  <tbody>\n",
              "    <tr>\n",
              "      <th>0</th>\n",
              "      <td>1</td>\n",
              "      <td>1</td>\n",
              "      <td>ANC</td>\n",
              "      <td>SEA</td>\n",
              "      <td>5</td>\n",
              "      <td>2354.0</td>\n",
              "      <td>-11.0</td>\n",
              "      <td>430</td>\n",
              "      <td>-22.0</td>\n",
              "      <td>0</td>\n",
              "      <td>0</td>\n",
              "      <td>NaN</td>\n",
              "      <td>NaN</td>\n",
              "      <td>NaN</td>\n",
              "      <td>NaN</td>\n",
              "      <td>NaN</td>\n",
              "    </tr>\n",
              "    <tr>\n",
              "      <th>1</th>\n",
              "      <td>1</td>\n",
              "      <td>1</td>\n",
              "      <td>LAX</td>\n",
              "      <td>PBI</td>\n",
              "      <td>10</td>\n",
              "      <td>2.0</td>\n",
              "      <td>-8.0</td>\n",
              "      <td>750</td>\n",
              "      <td>-9.0</td>\n",
              "      <td>0</td>\n",
              "      <td>0</td>\n",
              "      <td>NaN</td>\n",
              "      <td>NaN</td>\n",
              "      <td>NaN</td>\n",
              "      <td>NaN</td>\n",
              "      <td>NaN</td>\n",
              "    </tr>\n",
              "    <tr>\n",
              "      <th>2</th>\n",
              "      <td>1</td>\n",
              "      <td>1</td>\n",
              "      <td>SFO</td>\n",
              "      <td>CLT</td>\n",
              "      <td>20</td>\n",
              "      <td>18.0</td>\n",
              "      <td>-2.0</td>\n",
              "      <td>806</td>\n",
              "      <td>5.0</td>\n",
              "      <td>0</td>\n",
              "      <td>0</td>\n",
              "      <td>NaN</td>\n",
              "      <td>NaN</td>\n",
              "      <td>NaN</td>\n",
              "      <td>NaN</td>\n",
              "      <td>NaN</td>\n",
              "    </tr>\n",
              "    <tr>\n",
              "      <th>3</th>\n",
              "      <td>1</td>\n",
              "      <td>1</td>\n",
              "      <td>LAX</td>\n",
              "      <td>MIA</td>\n",
              "      <td>20</td>\n",
              "      <td>15.0</td>\n",
              "      <td>-5.0</td>\n",
              "      <td>805</td>\n",
              "      <td>-9.0</td>\n",
              "      <td>0</td>\n",
              "      <td>0</td>\n",
              "      <td>NaN</td>\n",
              "      <td>NaN</td>\n",
              "      <td>NaN</td>\n",
              "      <td>NaN</td>\n",
              "      <td>NaN</td>\n",
              "    </tr>\n",
              "    <tr>\n",
              "      <th>4</th>\n",
              "      <td>1</td>\n",
              "      <td>1</td>\n",
              "      <td>SEA</td>\n",
              "      <td>ANC</td>\n",
              "      <td>25</td>\n",
              "      <td>24.0</td>\n",
              "      <td>-1.0</td>\n",
              "      <td>320</td>\n",
              "      <td>-21.0</td>\n",
              "      <td>0</td>\n",
              "      <td>0</td>\n",
              "      <td>NaN</td>\n",
              "      <td>NaN</td>\n",
              "      <td>NaN</td>\n",
              "      <td>NaN</td>\n",
              "      <td>NaN</td>\n",
              "    </tr>\n",
              "  </tbody>\n",
              "</table>\n",
              "</div>"
            ],
            "text/plain": [
              "   MONTH  DAY ORIGIN_AIRPORT  ... AIRLINE_DELAY  LATE_AIRCRAFT_DELAY  WEATHER_DELAY\n",
              "0      1    1            ANC  ...           NaN                  NaN            NaN\n",
              "1      1    1            LAX  ...           NaN                  NaN            NaN\n",
              "2      1    1            SFO  ...           NaN                  NaN            NaN\n",
              "3      1    1            LAX  ...           NaN                  NaN            NaN\n",
              "4      1    1            SEA  ...           NaN                  NaN            NaN\n",
              "\n",
              "[5 rows x 16 columns]"
            ]
          },
          "metadata": {
            "tags": []
          },
          "execution_count": 45
        }
      ]
    },
    {
      "cell_type": "code",
      "metadata": {
        "id": "lq-SlngVhCnT"
      },
      "source": [
        "columns= dt.columns"
      ],
      "execution_count": null,
      "outputs": []
    },
    {
      "cell_type": "code",
      "metadata": {
        "colab": {
          "base_uri": "https://localhost:8080/"
        },
        "id": "eTdMZyVzhFre",
        "outputId": "3dd7c4eb-8289-4852-cf27-09d87dadfb4a"
      },
      "source": [
        "print(columns)"
      ],
      "execution_count": null,
      "outputs": [
        {
          "output_type": "stream",
          "text": [
            "Index(['MONTH', 'DAY', 'ORIGIN_AIRPORT', 'DESTINATION_AIRPORT',\n",
            "       'SCHEDULED_DEPARTURE', 'DEPARTURE_TIME', 'DEPARTURE_DELAY',\n",
            "       'SCHEDULED_ARRIVAL', 'ARRIVAL_DELAY', 'DIVERTED', 'CANCELLED',\n",
            "       'AIR_SYSTEM_DELAY', 'SECURITY_DELAY', 'AIRLINE_DELAY',\n",
            "       'LATE_AIRCRAFT_DELAY', 'WEATHER_DELAY'],\n",
            "      dtype='object')\n"
          ],
          "name": "stdout"
        }
      ]
    },
    {
      "cell_type": "code",
      "metadata": {
        "colab": {
          "base_uri": "https://localhost:8080/"
        },
        "id": "TqrffQePiEUr",
        "outputId": "12d49a62-d86f-4ee5-882b-c9c2ebc4f207"
      },
      "source": [
        "dt.mean()"
      ],
      "execution_count": null,
      "outputs": [
        {
          "output_type": "execute_result",
          "data": {
            "text/plain": [
              "MONTH                     1.000000\n",
              "DAY                       3.733920\n",
              "SCHEDULED_DEPARTURE    1306.348280\n",
              "DEPARTURE_TIME         1326.265614\n",
              "DEPARTURE_DELAY          19.937749\n",
              "SCHEDULED_ARRIVAL      1481.115620\n",
              "ARRIVAL_DELAY            18.342304\n",
              "DIVERTED                  0.002240\n",
              "CANCELLED                 0.023890\n",
              "AIR_SYSTEM_DELAY         14.026801\n",
              "SECURITY_DELAY            0.070787\n",
              "AIRLINE_DELAY            17.853921\n",
              "LATE_AIRCRAFT_DELAY      26.014556\n",
              "WEATHER_DELAY             2.751971\n",
              "dtype: float64"
            ]
          },
          "metadata": {
            "tags": []
          },
          "execution_count": 59
        }
      ]
    },
    {
      "cell_type": "code",
      "metadata": {
        "id": "gEYsncXhiPYZ"
      },
      "source": [
        "col=['MONTH', 'DAY',\r\n",
        "       'SCHEDULED_DEPARTURE', 'DEPARTURE_TIME', 'DEPARTURE_DELAY',\r\n",
        "       'SCHEDULED_ARRIVAL', 'ARRIVAL_DELAY', 'DIVERTED', 'CANCELLED',\r\n",
        "       'AIR_SYSTEM_DELAY', 'SECURITY_DELAY', 'AIRLINE_DELAY',\r\n",
        "       'LATE_AIRCRAFT_DELAY', 'WEATHER_DELAY']"
      ],
      "execution_count": null,
      "outputs": []
    },
    {
      "cell_type": "code",
      "metadata": {
        "colab": {
          "base_uri": "https://localhost:8080/"
        },
        "id": "fbuTDF-Aifz9",
        "outputId": "97439d27-5182-4429-cd1a-48afde150988"
      },
      "source": [
        "dt.MONTH.mean()"
      ],
      "execution_count": null,
      "outputs": [
        {
          "output_type": "execute_result",
          "data": {
            "text/plain": [
              "1.0"
            ]
          },
          "metadata": {
            "tags": []
          },
          "execution_count": 62
        }
      ]
    },
    {
      "cell_type": "code",
      "metadata": {
        "id": "iLtuwO9fe_4o"
      },
      "source": [
        "for column in col:\r\n",
        "  val= dt[column].mean()\r\n",
        "  dt[column].fillna(val,inplace= True)\r\n",
        "  \r\n"
      ],
      "execution_count": null,
      "outputs": []
    },
    {
      "cell_type": "code",
      "metadata": {
        "colab": {
          "base_uri": "https://localhost:8080/"
        },
        "id": "7hM60BWWf2dv",
        "outputId": "df7d5836-6101-410f-dd1e-96cd8c18d012"
      },
      "source": [
        "dt.isna().sum()"
      ],
      "execution_count": null,
      "outputs": [
        {
          "output_type": "execute_result",
          "data": {
            "text/plain": [
              "MONTH                  0\n",
              "DAY                    0\n",
              "ORIGIN_AIRPORT         0\n",
              "DESTINATION_AIRPORT    0\n",
              "SCHEDULED_DEPARTURE    0\n",
              "DEPARTURE_TIME         0\n",
              "DEPARTURE_DELAY        0\n",
              "SCHEDULED_ARRIVAL      0\n",
              "ARRIVAL_DELAY          0\n",
              "DIVERTED               0\n",
              "CANCELLED              0\n",
              "AIR_SYSTEM_DELAY       0\n",
              "SECURITY_DELAY         0\n",
              "AIRLINE_DELAY          0\n",
              "LATE_AIRCRAFT_DELAY    0\n",
              "WEATHER_DELAY          0\n",
              "dtype: int64"
            ]
          },
          "metadata": {
            "tags": []
          },
          "execution_count": 65
        }
      ]
    },
    {
      "cell_type": "code",
      "metadata": {
        "id": "KIt5jA-QitBo"
      },
      "source": [
        "dt['RESULT']= dt['ARRIVAL_DELAY'] > 15"
      ],
      "execution_count": null,
      "outputs": []
    },
    {
      "cell_type": "code",
      "metadata": {
        "colab": {
          "base_uri": "https://localhost:8080/"
        },
        "id": "Z5Fe5UkpjUcF",
        "outputId": "c2b4c9fa-78dd-41ac-885a-40be171cd0ab"
      },
      "source": [
        "dt['RESULT'].head()"
      ],
      "execution_count": null,
      "outputs": [
        {
          "output_type": "execute_result",
          "data": {
            "text/plain": [
              "0    False\n",
              "1    False\n",
              "2    False\n",
              "3    False\n",
              "4    False\n",
              "Name: RESULT, dtype: bool"
            ]
          },
          "metadata": {
            "tags": []
          },
          "execution_count": 74
        }
      ]
    },
    {
      "cell_type": "code",
      "metadata": {
        "id": "-4WpZHv4kzQM"
      },
      "source": [
        "dt['RESULT']= dt['RESULT'].astype(int)"
      ],
      "execution_count": null,
      "outputs": []
    },
    {
      "cell_type": "code",
      "metadata": {
        "colab": {
          "base_uri": "https://localhost:8080/"
        },
        "id": "KdnJzlGmjh7_",
        "outputId": "ad152312-81cd-4ef1-ccf9-7b7247e040dc"
      },
      "source": [
        "dt['RESULT'].value_counts()"
      ],
      "execution_count": null,
      "outputs": [
        {
          "output_type": "execute_result",
          "data": {
            "text/plain": [
              "0    63779\n",
              "1    36221\n",
              "Name: RESULT, dtype: int64"
            ]
          },
          "metadata": {
            "tags": []
          },
          "execution_count": 78
        }
      ]
    },
    {
      "cell_type": "code",
      "metadata": {
        "id": "VxNM6TV4kXlu"
      },
      "source": [
        "from sklearn.model_selection import train_test_split\r\n",
        "from sklearn.preprocessing import StandardScaler"
      ],
      "execution_count": null,
      "outputs": []
    },
    {
      "cell_type": "code",
      "metadata": {
        "id": "5xklfY6MlsmJ"
      },
      "source": [
        "x= dt.drop(['RESULT'],axis=1)\r\n",
        "y= dt['RESULT']"
      ],
      "execution_count": null,
      "outputs": []
    },
    {
      "cell_type": "code",
      "metadata": {
        "colab": {
          "base_uri": "https://localhost:8080/"
        },
        "id": "Q2USnK1PnTUV",
        "outputId": "d45d3be5-b264-415c-b36f-b5afb358b0be"
      },
      "source": [
        "x.columns"
      ],
      "execution_count": null,
      "outputs": [
        {
          "output_type": "execute_result",
          "data": {
            "text/plain": [
              "Index(['MONTH', 'DAY', 'ORIGIN_AIRPORT', 'DESTINATION_AIRPORT',\n",
              "       'SCHEDULED_DEPARTURE', 'DEPARTURE_TIME', 'DEPARTURE_DELAY',\n",
              "       'SCHEDULED_ARRIVAL', 'ARRIVAL_DELAY', 'DIVERTED', 'CANCELLED',\n",
              "       'AIR_SYSTEM_DELAY', 'SECURITY_DELAY', 'AIRLINE_DELAY',\n",
              "       'LATE_AIRCRAFT_DELAY', 'WEATHER_DELAY'],\n",
              "      dtype='object')"
            ]
          },
          "metadata": {
            "tags": []
          },
          "execution_count": 102
        }
      ]
    },
    {
      "cell_type": "code",
      "metadata": {
        "id": "ULFyqycbnc2o"
      },
      "source": [
        "x.drop(['ORIGIN_AIRPORT','DESTINATION_AIRPORT', 'DEPARTURE_TIME','ARRIVAL_DELAY'],inplace= True,axis=1)"
      ],
      "execution_count": null,
      "outputs": []
    },
    {
      "cell_type": "code",
      "metadata": {
        "id": "0ZOEVauAl5C3"
      },
      "source": [
        "x_train, x_test, y_train, y_test= train_test_split(x,y,test_size=0.3,random_state=42)"
      ],
      "execution_count": null,
      "outputs": []
    },
    {
      "cell_type": "code",
      "metadata": {
        "id": "TuanZx7vmhWU"
      },
      "source": [
        "scaler= StandardScaler()"
      ],
      "execution_count": null,
      "outputs": []
    },
    {
      "cell_type": "code",
      "metadata": {
        "id": "tJWn0kBBnO8C"
      },
      "source": [
        "colns= x_train.columns"
      ],
      "execution_count": null,
      "outputs": []
    },
    {
      "cell_type": "code",
      "metadata": {
        "id": "OMux-bSUm1lP"
      },
      "source": [
        "x_train= pd.DataFrame(scaler.fit_transform(x_train),columns= colns)"
      ],
      "execution_count": null,
      "outputs": []
    },
    {
      "cell_type": "code",
      "metadata": {
        "colab": {
          "base_uri": "https://localhost:8080/",
          "height": 215
        },
        "id": "njUNP1XanF-E",
        "outputId": "94d932a3-7ea7-40d0-9d3f-55cce47c0124"
      },
      "source": [
        "x_train.head()"
      ],
      "execution_count": null,
      "outputs": [
        {
          "output_type": "execute_result",
          "data": {
            "text/html": [
              "<div>\n",
              "<style scoped>\n",
              "    .dataframe tbody tr th:only-of-type {\n",
              "        vertical-align: middle;\n",
              "    }\n",
              "\n",
              "    .dataframe tbody tr th {\n",
              "        vertical-align: top;\n",
              "    }\n",
              "\n",
              "    .dataframe thead th {\n",
              "        text-align: right;\n",
              "    }\n",
              "</style>\n",
              "<table border=\"1\" class=\"dataframe\">\n",
              "  <thead>\n",
              "    <tr style=\"text-align: right;\">\n",
              "      <th></th>\n",
              "      <th>MONTH</th>\n",
              "      <th>DAY</th>\n",
              "      <th>SCHEDULED_DEPARTURE</th>\n",
              "      <th>DEPARTURE_DELAY</th>\n",
              "      <th>SCHEDULED_ARRIVAL</th>\n",
              "      <th>DIVERTED</th>\n",
              "      <th>CANCELLED</th>\n",
              "      <th>AIR_SYSTEM_DELAY</th>\n",
              "      <th>SECURITY_DELAY</th>\n",
              "      <th>AIRLINE_DELAY</th>\n",
              "      <th>LATE_AIRCRAFT_DELAY</th>\n",
              "      <th>WEATHER_DELAY</th>\n",
              "    </tr>\n",
              "  </thead>\n",
              "  <tbody>\n",
              "    <tr>\n",
              "      <th>0</th>\n",
              "      <td>0.0</td>\n",
              "      <td>0.696273</td>\n",
              "      <td>1.240474</td>\n",
              "      <td>0.706988</td>\n",
              "      <td>1.132103</td>\n",
              "      <td>-0.048902</td>\n",
              "      <td>-0.155805</td>\n",
              "      <td>-0.404483</td>\n",
              "      <td>-0.078036</td>\n",
              "      <td>-0.582895</td>\n",
              "      <td>0.904472</td>\n",
              "      <td>-0.270131</td>\n",
              "    </tr>\n",
              "    <tr>\n",
              "      <th>1</th>\n",
              "      <td>0.0</td>\n",
              "      <td>0.145797</td>\n",
              "      <td>1.323352</td>\n",
              "      <td>-0.330754</td>\n",
              "      <td>1.122098</td>\n",
              "      <td>-0.048902</td>\n",
              "      <td>-0.155805</td>\n",
              "      <td>0.005078</td>\n",
              "      <td>0.005343</td>\n",
              "      <td>0.000046</td>\n",
              "      <td>-0.003073</td>\n",
              "      <td>-0.000555</td>\n",
              "    </tr>\n",
              "    <tr>\n",
              "      <th>2</th>\n",
              "      <td>0.0</td>\n",
              "      <td>-0.955153</td>\n",
              "      <td>1.068502</td>\n",
              "      <td>0.132918</td>\n",
              "      <td>1.664351</td>\n",
              "      <td>-0.048902</td>\n",
              "      <td>-0.155805</td>\n",
              "      <td>-0.948135</td>\n",
              "      <td>-0.078036</td>\n",
              "      <td>-0.072711</td>\n",
              "      <td>-1.030219</td>\n",
              "      <td>-0.270131</td>\n",
              "    </tr>\n",
              "    <tr>\n",
              "      <th>3</th>\n",
              "      <td>0.0</td>\n",
              "      <td>0.145797</td>\n",
              "      <td>-0.013060</td>\n",
              "      <td>0.044599</td>\n",
              "      <td>0.271701</td>\n",
              "      <td>-0.048902</td>\n",
              "      <td>-0.155805</td>\n",
              "      <td>-0.948135</td>\n",
              "      <td>-0.078036</td>\n",
              "      <td>-0.700629</td>\n",
              "      <td>-0.951252</td>\n",
              "      <td>1.199227</td>\n",
              "    </tr>\n",
              "    <tr>\n",
              "      <th>4</th>\n",
              "      <td>0.0</td>\n",
              "      <td>0.696273</td>\n",
              "      <td>-1.028319</td>\n",
              "      <td>-0.286595</td>\n",
              "      <td>-1.098938</td>\n",
              "      <td>-0.048902</td>\n",
              "      <td>-0.155805</td>\n",
              "      <td>0.005078</td>\n",
              "      <td>0.005343</td>\n",
              "      <td>0.000046</td>\n",
              "      <td>-0.003073</td>\n",
              "      <td>-0.000555</td>\n",
              "    </tr>\n",
              "  </tbody>\n",
              "</table>\n",
              "</div>"
            ],
            "text/plain": [
              "   MONTH       DAY  ...  LATE_AIRCRAFT_DELAY  WEATHER_DELAY\n",
              "0    0.0  0.696273  ...             0.904472      -0.270131\n",
              "1    0.0  0.145797  ...            -0.003073      -0.000555\n",
              "2    0.0 -0.955153  ...            -1.030219      -0.270131\n",
              "3    0.0  0.145797  ...            -0.951252       1.199227\n",
              "4    0.0  0.696273  ...            -0.003073      -0.000555\n",
              "\n",
              "[5 rows x 12 columns]"
            ]
          },
          "metadata": {
            "tags": []
          },
          "execution_count": 108
        }
      ]
    },
    {
      "cell_type": "code",
      "metadata": {
        "id": "6X3BcLurpqHE"
      },
      "source": [
        "x_test= pd.DataFrame(scaler.transform(x_test),columns= colns)"
      ],
      "execution_count": null,
      "outputs": []
    },
    {
      "cell_type": "code",
      "metadata": {
        "id": "_CR0ZaGtqF6p"
      },
      "source": [
        "from sklearn.tree import DecisionTreeClassifier"
      ],
      "execution_count": null,
      "outputs": []
    },
    {
      "cell_type": "code",
      "metadata": {
        "id": "HpaSTBfFqzh6"
      },
      "source": [
        "clf= DecisionTreeClassifier()"
      ],
      "execution_count": null,
      "outputs": []
    },
    {
      "cell_type": "code",
      "metadata": {
        "colab": {
          "base_uri": "https://localhost:8080/"
        },
        "id": "x13DDlC1q9Ie",
        "outputId": "85de512c-6cb5-4500-a9a5-b8bdbc81e8e5"
      },
      "source": [
        "clf.fit(x_train,y_train)"
      ],
      "execution_count": null,
      "outputs": [
        {
          "output_type": "execute_result",
          "data": {
            "text/plain": [
              "DecisionTreeClassifier(ccp_alpha=0.0, class_weight=None, criterion='gini',\n",
              "                       max_depth=None, max_features=None, max_leaf_nodes=None,\n",
              "                       min_impurity_decrease=0.0, min_impurity_split=None,\n",
              "                       min_samples_leaf=1, min_samples_split=2,\n",
              "                       min_weight_fraction_leaf=0.0, presort='deprecated',\n",
              "                       random_state=None, splitter='best')"
            ]
          },
          "metadata": {
            "tags": []
          },
          "execution_count": 113
        }
      ]
    },
    {
      "cell_type": "code",
      "metadata": {
        "id": "3uV9A_pQrOyd"
      },
      "source": [
        "y_pred= clf.predict(x_test)"
      ],
      "execution_count": null,
      "outputs": []
    },
    {
      "cell_type": "code",
      "metadata": {
        "id": "dDCm9pwwrcrT"
      },
      "source": [
        "from sklearn.metrics import roc_auc_score"
      ],
      "execution_count": null,
      "outputs": []
    },
    {
      "cell_type": "code",
      "metadata": {
        "colab": {
          "base_uri": "https://localhost:8080/"
        },
        "id": "mvNHZZnGrgnS",
        "outputId": "b69e24db-a47a-4558-f86e-270209471ab3"
      },
      "source": [
        "print(roc_auc_score(y_test,y_pred))"
      ],
      "execution_count": null,
      "outputs": [
        {
          "output_type": "stream",
          "text": [
            "0.9980764012770109\n"
          ],
          "name": "stdout"
        }
      ]
    },
    {
      "cell_type": "code",
      "metadata": {
        "id": "IW-lJ9Kkrxbp"
      },
      "source": [
        ""
      ],
      "execution_count": null,
      "outputs": []
    },
    {
      "cell_type": "code",
      "metadata": {
        "id": "qAtixSyIr37r"
      },
      "source": [
        ""
      ],
      "execution_count": null,
      "outputs": []
    }
  ]
}